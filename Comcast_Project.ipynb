{
 "cells": [
  {
   "cell_type": "code",
   "execution_count": 1,
   "metadata": {},
   "outputs": [],
   "source": [
    "import pandas as pd\n",
    "import numpy as np\n",
    "import matplotlib.pyplot as plt\n",
    "import seaborn as sns\n",
    "%matplotlib inline"
   ]
  },
  {
   "cell_type": "code",
   "execution_count": 2,
   "metadata": {},
   "outputs": [
    {
     "data": {
      "text/html": [
       "<div>\n",
       "<style scoped>\n",
       "    .dataframe tbody tr th:only-of-type {\n",
       "        vertical-align: middle;\n",
       "    }\n",
       "\n",
       "    .dataframe tbody tr th {\n",
       "        vertical-align: top;\n",
       "    }\n",
       "\n",
       "    .dataframe thead th {\n",
       "        text-align: right;\n",
       "    }\n",
       "</style>\n",
       "<table border=\"1\" class=\"dataframe\">\n",
       "  <thead>\n",
       "    <tr style=\"text-align: right;\">\n",
       "      <th></th>\n",
       "      <th>Ticket #</th>\n",
       "      <th>Customer Complaint</th>\n",
       "      <th>Date</th>\n",
       "      <th>Date_month_year</th>\n",
       "      <th>Time</th>\n",
       "      <th>Received Via</th>\n",
       "      <th>City</th>\n",
       "      <th>State</th>\n",
       "      <th>Zip code</th>\n",
       "      <th>Status</th>\n",
       "      <th>Filing on Behalf of Someone</th>\n",
       "    </tr>\n",
       "  </thead>\n",
       "  <tbody>\n",
       "    <tr>\n",
       "      <th>0</th>\n",
       "      <td>250635</td>\n",
       "      <td>Comcast Cable Internet Speeds</td>\n",
       "      <td>22-04-15</td>\n",
       "      <td>22-Apr-15</td>\n",
       "      <td>3:53:50 PM</td>\n",
       "      <td>Customer Care Call</td>\n",
       "      <td>Abingdon</td>\n",
       "      <td>Maryland</td>\n",
       "      <td>21009</td>\n",
       "      <td>Closed</td>\n",
       "      <td>No</td>\n",
       "    </tr>\n",
       "    <tr>\n",
       "      <th>1</th>\n",
       "      <td>223441</td>\n",
       "      <td>Payment disappear - service got disconnected</td>\n",
       "      <td>04-08-15</td>\n",
       "      <td>04-Aug-15</td>\n",
       "      <td>10:22:56 AM</td>\n",
       "      <td>Internet</td>\n",
       "      <td>Acworth</td>\n",
       "      <td>Georgia</td>\n",
       "      <td>30102</td>\n",
       "      <td>Closed</td>\n",
       "      <td>No</td>\n",
       "    </tr>\n",
       "    <tr>\n",
       "      <th>2</th>\n",
       "      <td>242732</td>\n",
       "      <td>Speed and Service</td>\n",
       "      <td>18-04-15</td>\n",
       "      <td>18-Apr-15</td>\n",
       "      <td>9:55:47 AM</td>\n",
       "      <td>Internet</td>\n",
       "      <td>Acworth</td>\n",
       "      <td>Georgia</td>\n",
       "      <td>30101</td>\n",
       "      <td>Closed</td>\n",
       "      <td>Yes</td>\n",
       "    </tr>\n",
       "    <tr>\n",
       "      <th>3</th>\n",
       "      <td>277946</td>\n",
       "      <td>Comcast Imposed a New Usage Cap of 300GB that ...</td>\n",
       "      <td>05-07-15</td>\n",
       "      <td>05-Jul-15</td>\n",
       "      <td>11:59:35 AM</td>\n",
       "      <td>Internet</td>\n",
       "      <td>Acworth</td>\n",
       "      <td>Georgia</td>\n",
       "      <td>30101</td>\n",
       "      <td>Open</td>\n",
       "      <td>Yes</td>\n",
       "    </tr>\n",
       "    <tr>\n",
       "      <th>4</th>\n",
       "      <td>307175</td>\n",
       "      <td>Comcast not working and no service to boot</td>\n",
       "      <td>26-05-15</td>\n",
       "      <td>26-May-15</td>\n",
       "      <td>1:25:26 PM</td>\n",
       "      <td>Internet</td>\n",
       "      <td>Acworth</td>\n",
       "      <td>Georgia</td>\n",
       "      <td>30101</td>\n",
       "      <td>Solved</td>\n",
       "      <td>No</td>\n",
       "    </tr>\n",
       "  </tbody>\n",
       "</table>\n",
       "</div>"
      ],
      "text/plain": [
       "  Ticket #                                 Customer Complaint      Date  \\\n",
       "0   250635                      Comcast Cable Internet Speeds  22-04-15   \n",
       "1   223441       Payment disappear - service got disconnected  04-08-15   \n",
       "2   242732                                  Speed and Service  18-04-15   \n",
       "3   277946  Comcast Imposed a New Usage Cap of 300GB that ...  05-07-15   \n",
       "4   307175         Comcast not working and no service to boot  26-05-15   \n",
       "\n",
       "  Date_month_year         Time        Received Via      City     State  \\\n",
       "0       22-Apr-15   3:53:50 PM  Customer Care Call  Abingdon  Maryland   \n",
       "1       04-Aug-15  10:22:56 AM            Internet   Acworth   Georgia   \n",
       "2       18-Apr-15   9:55:47 AM            Internet   Acworth   Georgia   \n",
       "3       05-Jul-15  11:59:35 AM            Internet   Acworth   Georgia   \n",
       "4       26-May-15   1:25:26 PM            Internet   Acworth   Georgia   \n",
       "\n",
       "   Zip code  Status Filing on Behalf of Someone  \n",
       "0     21009  Closed                          No  \n",
       "1     30102  Closed                          No  \n",
       "2     30101  Closed                         Yes  \n",
       "3     30101    Open                         Yes  \n",
       "4     30101  Solved                          No  "
      ]
     },
     "execution_count": 2,
     "metadata": {},
     "output_type": "execute_result"
    }
   ],
   "source": [
    "df = pd.read_csv('Comcast_telecom_complaints_data.csv')\n",
    "df.head()"
   ]
  },
  {
   "cell_type": "code",
   "execution_count": 3,
   "metadata": {},
   "outputs": [
    {
     "data": {
      "text/plain": [
       "Index(['Ticket #', 'Customer Complaint', 'Date', 'Date_month_year', 'Time',\n",
       "       'Received Via', 'City', 'State', 'Zip code', 'Status',\n",
       "       'Filing on Behalf of Someone'],\n",
       "      dtype='object')"
      ]
     },
     "execution_count": 3,
     "metadata": {},
     "output_type": "execute_result"
    }
   ],
   "source": [
    "df.columns #checking the column names"
   ]
  },
  {
   "cell_type": "code",
   "execution_count": 4,
   "metadata": {},
   "outputs": [
    {
     "data": {
      "text/plain": [
       "Ticket #                       False\n",
       "Customer Complaint             False\n",
       "Date                           False\n",
       "Date_month_year                False\n",
       "Time                           False\n",
       "Received Via                   False\n",
       "City                           False\n",
       "State                          False\n",
       "Zip code                       False\n",
       "Status                         False\n",
       "Filing on Behalf of Someone    False\n",
       "dtype: bool"
      ]
     },
     "execution_count": 4,
     "metadata": {},
     "output_type": "execute_result"
    }
   ],
   "source": [
    "df.isna().any() #checking for missing values"
   ]
  },
  {
   "cell_type": "code",
   "execution_count": 5,
   "metadata": {
    "scrolled": true
   },
   "outputs": [
    {
     "data": {
      "text/plain": [
       "0       False\n",
       "1       False\n",
       "2       False\n",
       "3       False\n",
       "4       False\n",
       "        ...  \n",
       "2219    False\n",
       "2220    False\n",
       "2221    False\n",
       "2222    False\n",
       "2223    False\n",
       "Length: 2224, dtype: bool"
      ]
     },
     "execution_count": 5,
     "metadata": {},
     "output_type": "execute_result"
    }
   ],
   "source": [
    "df.duplicated() #checking for duplicates"
   ]
  },
  {
   "cell_type": "code",
   "execution_count": 6,
   "metadata": {
    "scrolled": true
   },
   "outputs": [
    {
     "data": {
      "text/plain": [
       "Ticket #                       object\n",
       "Customer Complaint             object\n",
       "Date                           object\n",
       "Date_month_year                object\n",
       "Time                           object\n",
       "Received Via                   object\n",
       "City                           object\n",
       "State                          object\n",
       "Zip code                        int64\n",
       "Status                         object\n",
       "Filing on Behalf of Someone    object\n",
       "dtype: object"
      ]
     },
     "execution_count": 6,
     "metadata": {},
     "output_type": "execute_result"
    }
   ],
   "source": [
    "df.dtypes"
   ]
  },
  {
   "cell_type": "code",
   "execution_count": 7,
   "metadata": {
    "scrolled": true
   },
   "outputs": [],
   "source": [
    "df['date_index'] = df[\"Date_month_year\"] + \" \" + df[\"Time\"] #create new column"
   ]
  },
  {
   "cell_type": "code",
   "execution_count": 8,
   "metadata": {},
   "outputs": [
    {
     "data": {
      "text/html": [
       "<div>\n",
       "<style scoped>\n",
       "    .dataframe tbody tr th:only-of-type {\n",
       "        vertical-align: middle;\n",
       "    }\n",
       "\n",
       "    .dataframe tbody tr th {\n",
       "        vertical-align: top;\n",
       "    }\n",
       "\n",
       "    .dataframe thead th {\n",
       "        text-align: right;\n",
       "    }\n",
       "</style>\n",
       "<table border=\"1\" class=\"dataframe\">\n",
       "  <thead>\n",
       "    <tr style=\"text-align: right;\">\n",
       "      <th></th>\n",
       "      <th>Ticket #</th>\n",
       "      <th>Customer Complaint</th>\n",
       "      <th>Date</th>\n",
       "      <th>Date_month_year</th>\n",
       "      <th>Time</th>\n",
       "      <th>Received Via</th>\n",
       "      <th>City</th>\n",
       "      <th>State</th>\n",
       "      <th>Zip code</th>\n",
       "      <th>Status</th>\n",
       "      <th>Filing on Behalf of Someone</th>\n",
       "      <th>date_index</th>\n",
       "    </tr>\n",
       "    <tr>\n",
       "      <th>date_index</th>\n",
       "      <th></th>\n",
       "      <th></th>\n",
       "      <th></th>\n",
       "      <th></th>\n",
       "      <th></th>\n",
       "      <th></th>\n",
       "      <th></th>\n",
       "      <th></th>\n",
       "      <th></th>\n",
       "      <th></th>\n",
       "      <th></th>\n",
       "      <th></th>\n",
       "    </tr>\n",
       "  </thead>\n",
       "  <tbody>\n",
       "    <tr>\n",
       "      <th>2015-04-22 15:53:50</th>\n",
       "      <td>250635</td>\n",
       "      <td>Comcast Cable Internet Speeds</td>\n",
       "      <td>22-04-15</td>\n",
       "      <td>2015-04-22</td>\n",
       "      <td>3:53:50 PM</td>\n",
       "      <td>Customer Care Call</td>\n",
       "      <td>Abingdon</td>\n",
       "      <td>Maryland</td>\n",
       "      <td>21009</td>\n",
       "      <td>Closed</td>\n",
       "      <td>No</td>\n",
       "      <td>2015-04-22 15:53:50</td>\n",
       "    </tr>\n",
       "    <tr>\n",
       "      <th>2015-08-04 10:22:56</th>\n",
       "      <td>223441</td>\n",
       "      <td>Payment disappear - service got disconnected</td>\n",
       "      <td>04-08-15</td>\n",
       "      <td>2015-08-04</td>\n",
       "      <td>10:22:56 AM</td>\n",
       "      <td>Internet</td>\n",
       "      <td>Acworth</td>\n",
       "      <td>Georgia</td>\n",
       "      <td>30102</td>\n",
       "      <td>Closed</td>\n",
       "      <td>No</td>\n",
       "      <td>2015-08-04 10:22:56</td>\n",
       "    </tr>\n",
       "    <tr>\n",
       "      <th>2015-04-18 09:55:47</th>\n",
       "      <td>242732</td>\n",
       "      <td>Speed and Service</td>\n",
       "      <td>18-04-15</td>\n",
       "      <td>2015-04-18</td>\n",
       "      <td>9:55:47 AM</td>\n",
       "      <td>Internet</td>\n",
       "      <td>Acworth</td>\n",
       "      <td>Georgia</td>\n",
       "      <td>30101</td>\n",
       "      <td>Closed</td>\n",
       "      <td>Yes</td>\n",
       "      <td>2015-04-18 09:55:47</td>\n",
       "    </tr>\n",
       "    <tr>\n",
       "      <th>2015-07-05 11:59:35</th>\n",
       "      <td>277946</td>\n",
       "      <td>Comcast Imposed a New Usage Cap of 300GB that ...</td>\n",
       "      <td>05-07-15</td>\n",
       "      <td>2015-07-05</td>\n",
       "      <td>11:59:35 AM</td>\n",
       "      <td>Internet</td>\n",
       "      <td>Acworth</td>\n",
       "      <td>Georgia</td>\n",
       "      <td>30101</td>\n",
       "      <td>Open</td>\n",
       "      <td>Yes</td>\n",
       "      <td>2015-07-05 11:59:35</td>\n",
       "    </tr>\n",
       "    <tr>\n",
       "      <th>2015-05-26 13:25:26</th>\n",
       "      <td>307175</td>\n",
       "      <td>Comcast not working and no service to boot</td>\n",
       "      <td>26-05-15</td>\n",
       "      <td>2015-05-26</td>\n",
       "      <td>1:25:26 PM</td>\n",
       "      <td>Internet</td>\n",
       "      <td>Acworth</td>\n",
       "      <td>Georgia</td>\n",
       "      <td>30101</td>\n",
       "      <td>Solved</td>\n",
       "      <td>No</td>\n",
       "      <td>2015-05-26 13:25:26</td>\n",
       "    </tr>\n",
       "  </tbody>\n",
       "</table>\n",
       "</div>"
      ],
      "text/plain": [
       "                    Ticket #  \\\n",
       "date_index                     \n",
       "2015-04-22 15:53:50   250635   \n",
       "2015-08-04 10:22:56   223441   \n",
       "2015-04-18 09:55:47   242732   \n",
       "2015-07-05 11:59:35   277946   \n",
       "2015-05-26 13:25:26   307175   \n",
       "\n",
       "                                                    Customer Complaint  \\\n",
       "date_index                                                               \n",
       "2015-04-22 15:53:50                      Comcast Cable Internet Speeds   \n",
       "2015-08-04 10:22:56       Payment disappear - service got disconnected   \n",
       "2015-04-18 09:55:47                                  Speed and Service   \n",
       "2015-07-05 11:59:35  Comcast Imposed a New Usage Cap of 300GB that ...   \n",
       "2015-05-26 13:25:26         Comcast not working and no service to boot   \n",
       "\n",
       "                         Date Date_month_year         Time  \\\n",
       "date_index                                                   \n",
       "2015-04-22 15:53:50  22-04-15      2015-04-22   3:53:50 PM   \n",
       "2015-08-04 10:22:56  04-08-15      2015-08-04  10:22:56 AM   \n",
       "2015-04-18 09:55:47  18-04-15      2015-04-18   9:55:47 AM   \n",
       "2015-07-05 11:59:35  05-07-15      2015-07-05  11:59:35 AM   \n",
       "2015-05-26 13:25:26  26-05-15      2015-05-26   1:25:26 PM   \n",
       "\n",
       "                           Received Via      City     State  Zip code  Status  \\\n",
       "date_index                                                                      \n",
       "2015-04-22 15:53:50  Customer Care Call  Abingdon  Maryland     21009  Closed   \n",
       "2015-08-04 10:22:56            Internet   Acworth   Georgia     30102  Closed   \n",
       "2015-04-18 09:55:47            Internet   Acworth   Georgia     30101  Closed   \n",
       "2015-07-05 11:59:35            Internet   Acworth   Georgia     30101    Open   \n",
       "2015-05-26 13:25:26            Internet   Acworth   Georgia     30101  Solved   \n",
       "\n",
       "                    Filing on Behalf of Someone          date_index  \n",
       "date_index                                                           \n",
       "2015-04-22 15:53:50                          No 2015-04-22 15:53:50  \n",
       "2015-08-04 10:22:56                          No 2015-08-04 10:22:56  \n",
       "2015-04-18 09:55:47                         Yes 2015-04-18 09:55:47  \n",
       "2015-07-05 11:59:35                         Yes 2015-07-05 11:59:35  \n",
       "2015-05-26 13:25:26                          No 2015-05-26 13:25:26  "
      ]
     },
     "execution_count": 8,
     "metadata": {},
     "output_type": "execute_result"
    }
   ],
   "source": [
    "df['date_index'] = pd.to_datetime(df['date_index'])\n",
    "df['Date_month_year'] = pd.to_datetime(df['Date_month_year'])\n",
    "df = df.set_index(df['date_index'])\n",
    "df.head()"
   ]
  },
  {
   "cell_type": "code",
   "execution_count": 9,
   "metadata": {
    "scrolled": true
   },
   "outputs": [
    {
     "data": {
      "image/png": "[encoded data removed]",
      "text/plain": [
       "<Figure size 1080x720 with 1 Axes>"
      ]
     },
     "metadata": {
      "needs_background": "light"
     },
     "output_type": "display_data"
    }
   ],
   "source": [
    "df['Date_month_year'].value_counts().plot(figsize=(15,10),\n",
    "                                         title='Complaints by Date',\n",
    "                                         xlabel='Date',\n",
    "                                         ylabel='Complaints')\n",
    "plt.savefig('dmy.jpg');"
   ]
  },
  {
   "cell_type": "code",
   "execution_count": 10,
   "metadata": {
    "scrolled": true
   },
   "outputs": [
    {
     "data": {
      "image/png": "[encoded data removed]",
      "text/plain": [
       "<Figure size 1080x720 with 1 Axes>"
      ]
     },
     "metadata": {
      "needs_background": "light"
     },
     "output_type": "display_data"
    }
   ],
   "source": [
    "df.groupby(pd.Grouper(freq='M')).size().plot(figsize=(15,10),\n",
    "                                            title='Complaints by month',\n",
    "                                            xlabel='Month',ylabel='Complaints')\n",
    "plt.savefig('month_complaint');"
   ]
  },
  {
   "cell_type": "code",
   "execution_count": 19,
   "metadata": {
    "scrolled": true
   },
   "outputs": [
    {
     "data": {
      "text/plain": [
       "date_index\n",
       "2015-04-22 15:53:50    Wednesday\n",
       "2015-08-04 10:22:56    Wednesday\n",
       "2015-04-18 09:55:47     Saturday\n",
       "2015-07-05 11:59:35     Thursday\n",
       "2015-05-26 13:25:26      Tuesday\n",
       "                         ...    \n",
       "2015-02-04 09:13:18     Thursday\n",
       "2015-02-06 13:24:39      Tuesday\n",
       "2015-09-06 17:28:41      Tuesday\n",
       "2015-06-23 23:13:30      Tuesday\n",
       "2015-06-24 22:28:33    Wednesday\n",
       "Name: Day, Length: 2224, dtype: object"
      ]
     },
     "execution_count": 19,
     "metadata": {},
     "output_type": "execute_result"
    }
   ],
   "source": [
    "df['Date'] = pd.to_datetime(df['Date'])\n",
    "df['Day'] = df['Date'].dt.day_name()\n",
    "df['Day']"
   ]
  },
  {
   "cell_type": "code",
   "execution_count": 29,
   "metadata": {
    "scrolled": true
   },
   "outputs": [
    {
     "data": {
      "image/png": "[encoded data removed]",
      "text/plain": [
       "<Figure size 1080x720 with 1 Axes>"
      ]
     },
     "metadata": {
      "needs_background": "light"
     },
     "output_type": "display_data"
    }
   ],
   "source": [
    "plt.figure(figsize=(15,10))\n",
    "df['Day'].value_counts().plot(kind='bar')\n",
    "plt.savefig('days.jpg');"
   ]
  },
  {
   "cell_type": "code",
   "execution_count": null,
   "metadata": {},
   "outputs": [],
   "source": []
  },
  {
   "cell_type": "code",
   "execution_count": 28,
   "metadata": {},
   "outputs": [
    {
     "data": {
      "text/plain": [
       "Comcast                                                  83\n",
       "Comcast Internet                                         18\n",
       "Comcast Data Cap                                         17\n",
       "comcast                                                  13\n",
       "Comcast Billing                                          11\n",
       "                                                         ..\n",
       "Week long issues with speed and no help from comcast      1\n",
       "Customer Service & Billing                                1\n",
       "CRAMMING, False Internet Promotion, SPEED complaint       1\n",
       "Speeds lower than advertised                              1\n",
       "Ongoing issue with bill, Supervisors, Issue Not Fixed     1\n",
       "Name: Customer Complaint, Length: 1841, dtype: int64"
      ]
     },
     "execution_count": 28,
     "metadata": {},
     "output_type": "execute_result"
    }
   ],
   "source": [
    "cpl_type_counts = df['Customer Complaint'].value_counts()\n",
    "cpl_type_counts"
   ]
  },
  {
   "cell_type": "code",
   "execution_count": 29,
   "metadata": {},
   "outputs": [
    {
     "data": {
      "text/plain": [
       "Comcast              83\n",
       "Comcast Internet     18\n",
       "Comcast Data Cap     17\n",
       "comcast              13\n",
       "Comcast Billing      11\n",
       "Comcast Data Caps    11\n",
       "Data Caps            11\n",
       "Name: Customer Complaint, dtype: int64"
      ]
     },
     "execution_count": 29,
     "metadata": {},
     "output_type": "execute_result"
    }
   ],
   "source": [
    "complaint = cpl_type_counts[cpl_type_counts >= 10] #filtering for complaint with at least 10 complaints\n",
    "complaint"
   ]
  },
  {
   "cell_type": "code",
   "execution_count": 30,
   "metadata": {},
   "outputs": [
    {
     "data": {
      "image/png": "[encoded data removed]",
      "text/plain": [
       "<Figure size 720x720 with 1 Axes>"
      ]
     },
     "metadata": {
      "needs_background": "light"
     },
     "output_type": "display_data"
    }
   ],
   "source": [
    "complaint.plot.bar(figsize=(10,10),title='Complaint Types');"
   ]
  },
  {
   "cell_type": "code",
   "execution_count": 31,
   "metadata": {},
   "outputs": [
    {
     "data": {
      "text/html": [
       "<div>\n",
       "<style scoped>\n",
       "    .dataframe tbody tr th:only-of-type {\n",
       "        vertical-align: middle;\n",
       "    }\n",
       "\n",
       "    .dataframe tbody tr th {\n",
       "        vertical-align: top;\n",
       "    }\n",
       "\n",
       "    .dataframe thead th {\n",
       "        text-align: right;\n",
       "    }\n",
       "</style>\n",
       "<table border=\"1\" class=\"dataframe\">\n",
       "  <thead>\n",
       "    <tr style=\"text-align: right;\">\n",
       "      <th></th>\n",
       "      <th>Ticket #</th>\n",
       "      <th>Customer Complaint</th>\n",
       "      <th>Date</th>\n",
       "      <th>Date_month_year</th>\n",
       "      <th>Time</th>\n",
       "      <th>Received Via</th>\n",
       "      <th>City</th>\n",
       "      <th>State</th>\n",
       "      <th>Zip code</th>\n",
       "      <th>Status</th>\n",
       "      <th>Filing on Behalf of Someone</th>\n",
       "      <th>date_index</th>\n",
       "      <th>Status_open</th>\n",
       "      <th>Status_closed</th>\n",
       "    </tr>\n",
       "    <tr>\n",
       "      <th>date_index</th>\n",
       "      <th></th>\n",
       "      <th></th>\n",
       "      <th></th>\n",
       "      <th></th>\n",
       "      <th></th>\n",
       "      <th></th>\n",
       "      <th></th>\n",
       "      <th></th>\n",
       "      <th></th>\n",
       "      <th></th>\n",
       "      <th></th>\n",
       "      <th></th>\n",
       "      <th></th>\n",
       "      <th></th>\n",
       "    </tr>\n",
       "  </thead>\n",
       "  <tbody>\n",
       "    <tr>\n",
       "      <th>2015-04-22 15:53:50</th>\n",
       "      <td>250635</td>\n",
       "      <td>Comcast Cable Internet Speeds</td>\n",
       "      <td>22-04-15</td>\n",
       "      <td>2015-04-22</td>\n",
       "      <td>3:53:50 PM</td>\n",
       "      <td>Customer Care Call</td>\n",
       "      <td>Abingdon</td>\n",
       "      <td>Maryland</td>\n",
       "      <td>21009</td>\n",
       "      <td>Closed</td>\n",
       "      <td>No</td>\n",
       "      <td>2015-04-22 15:53:50</td>\n",
       "      <td>0</td>\n",
       "      <td>1</td>\n",
       "    </tr>\n",
       "    <tr>\n",
       "      <th>2015-08-04 10:22:56</th>\n",
       "      <td>223441</td>\n",
       "      <td>Payment disappear - service got disconnected</td>\n",
       "      <td>04-08-15</td>\n",
       "      <td>2015-08-04</td>\n",
       "      <td>10:22:56 AM</td>\n",
       "      <td>Internet</td>\n",
       "      <td>Acworth</td>\n",
       "      <td>Georgia</td>\n",
       "      <td>30102</td>\n",
       "      <td>Closed</td>\n",
       "      <td>No</td>\n",
       "      <td>2015-08-04 10:22:56</td>\n",
       "      <td>0</td>\n",
       "      <td>1</td>\n",
       "    </tr>\n",
       "    <tr>\n",
       "      <th>2015-04-18 09:55:47</th>\n",
       "      <td>242732</td>\n",
       "      <td>Speed and Service</td>\n",
       "      <td>18-04-15</td>\n",
       "      <td>2015-04-18</td>\n",
       "      <td>9:55:47 AM</td>\n",
       "      <td>Internet</td>\n",
       "      <td>Acworth</td>\n",
       "      <td>Georgia</td>\n",
       "      <td>30101</td>\n",
       "      <td>Closed</td>\n",
       "      <td>Yes</td>\n",
       "      <td>2015-04-18 09:55:47</td>\n",
       "      <td>0</td>\n",
       "      <td>1</td>\n",
       "    </tr>\n",
       "    <tr>\n",
       "      <th>2015-07-05 11:59:35</th>\n",
       "      <td>277946</td>\n",
       "      <td>Comcast Imposed a New Usage Cap of 300GB that ...</td>\n",
       "      <td>05-07-15</td>\n",
       "      <td>2015-07-05</td>\n",
       "      <td>11:59:35 AM</td>\n",
       "      <td>Internet</td>\n",
       "      <td>Acworth</td>\n",
       "      <td>Georgia</td>\n",
       "      <td>30101</td>\n",
       "      <td>Open</td>\n",
       "      <td>Yes</td>\n",
       "      <td>2015-07-05 11:59:35</td>\n",
       "      <td>1</td>\n",
       "      <td>0</td>\n",
       "    </tr>\n",
       "    <tr>\n",
       "      <th>2015-05-26 13:25:26</th>\n",
       "      <td>307175</td>\n",
       "      <td>Comcast not working and no service to boot</td>\n",
       "      <td>26-05-15</td>\n",
       "      <td>2015-05-26</td>\n",
       "      <td>1:25:26 PM</td>\n",
       "      <td>Internet</td>\n",
       "      <td>Acworth</td>\n",
       "      <td>Georgia</td>\n",
       "      <td>30101</td>\n",
       "      <td>Solved</td>\n",
       "      <td>No</td>\n",
       "      <td>2015-05-26 13:25:26</td>\n",
       "      <td>0</td>\n",
       "      <td>1</td>\n",
       "    </tr>\n",
       "  </tbody>\n",
       "</table>\n",
       "</div>"
      ],
      "text/plain": [
       "                    Ticket #  \\\n",
       "date_index                     \n",
       "2015-04-22 15:53:50   250635   \n",
       "2015-08-04 10:22:56   223441   \n",
       "2015-04-18 09:55:47   242732   \n",
       "2015-07-05 11:59:35   277946   \n",
       "2015-05-26 13:25:26   307175   \n",
       "\n",
       "                                                    Customer Complaint  \\\n",
       "date_index                                                               \n",
       "2015-04-22 15:53:50                      Comcast Cable Internet Speeds   \n",
       "2015-08-04 10:22:56       Payment disappear - service got disconnected   \n",
       "2015-04-18 09:55:47                                  Speed and Service   \n",
       "2015-07-05 11:59:35  Comcast Imposed a New Usage Cap of 300GB that ...   \n",
       "2015-05-26 13:25:26         Comcast not working and no service to boot   \n",
       "\n",
       "                         Date Date_month_year         Time  \\\n",
       "date_index                                                   \n",
       "2015-04-22 15:53:50  22-04-15      2015-04-22   3:53:50 PM   \n",
       "2015-08-04 10:22:56  04-08-15      2015-08-04  10:22:56 AM   \n",
       "2015-04-18 09:55:47  18-04-15      2015-04-18   9:55:47 AM   \n",
       "2015-07-05 11:59:35  05-07-15      2015-07-05  11:59:35 AM   \n",
       "2015-05-26 13:25:26  26-05-15      2015-05-26   1:25:26 PM   \n",
       "\n",
       "                           Received Via      City     State  Zip code  Status  \\\n",
       "date_index                                                                      \n",
       "2015-04-22 15:53:50  Customer Care Call  Abingdon  Maryland     21009  Closed   \n",
       "2015-08-04 10:22:56            Internet   Acworth   Georgia     30102  Closed   \n",
       "2015-04-18 09:55:47            Internet   Acworth   Georgia     30101  Closed   \n",
       "2015-07-05 11:59:35            Internet   Acworth   Georgia     30101    Open   \n",
       "2015-05-26 13:25:26            Internet   Acworth   Georgia     30101  Solved   \n",
       "\n",
       "                    Filing on Behalf of Someone          date_index  \\\n",
       "date_index                                                            \n",
       "2015-04-22 15:53:50                          No 2015-04-22 15:53:50   \n",
       "2015-08-04 10:22:56                          No 2015-08-04 10:22:56   \n",
       "2015-04-18 09:55:47                         Yes 2015-04-18 09:55:47   \n",
       "2015-07-05 11:59:35                         Yes 2015-07-05 11:59:35   \n",
       "2015-05-26 13:25:26                          No 2015-05-26 13:25:26   \n",
       "\n",
       "                     Status_open  Status_closed  \n",
       "date_index                                       \n",
       "2015-04-22 15:53:50            0              1  \n",
       "2015-08-04 10:22:56            0              1  \n",
       "2015-04-18 09:55:47            0              1  \n",
       "2015-07-05 11:59:35            1              0  \n",
       "2015-05-26 13:25:26            0              1  "
      ]
     },
     "execution_count": 31,
     "metadata": {},
     "output_type": "execute_result"
    }
   ],
   "source": [
    "df['Status_open'] = 0\n",
    "df['Status_closed'] = 0\n",
    "df.loc[(df['Status'] == 'Open') | (df['Status'] == 'Pending'), 'Status_open'] = 1\n",
    "df.loc[(df['Status'] == 'Closed') | (df['Status'] == 'Solved'), 'Status_closed'] = 1\n",
    "df.head()"
   ]
  },
  {
   "cell_type": "code",
   "execution_count": 32,
   "metadata": {},
   "outputs": [
    {
     "data": {
      "text/html": [
       "<div>\n",
       "<style scoped>\n",
       "    .dataframe tbody tr th:only-of-type {\n",
       "        vertical-align: middle;\n",
       "    }\n",
       "\n",
       "    .dataframe tbody tr th {\n",
       "        vertical-align: top;\n",
       "    }\n",
       "\n",
       "    .dataframe thead th {\n",
       "        text-align: right;\n",
       "    }\n",
       "</style>\n",
       "<table border=\"1\" class=\"dataframe\">\n",
       "  <thead>\n",
       "    <tr style=\"text-align: right;\">\n",
       "      <th></th>\n",
       "      <th>Ticket #</th>\n",
       "      <th>Customer Complaint</th>\n",
       "      <th>Date</th>\n",
       "      <th>Date_month_year</th>\n",
       "      <th>Time</th>\n",
       "      <th>Received Via</th>\n",
       "      <th>City</th>\n",
       "      <th>State</th>\n",
       "      <th>Zip code</th>\n",
       "      <th>Status</th>\n",
       "      <th>Filing on Behalf of Someone</th>\n",
       "      <th>date_index</th>\n",
       "      <th>Open</th>\n",
       "      <th>Closed</th>\n",
       "    </tr>\n",
       "    <tr>\n",
       "      <th>date_index</th>\n",
       "      <th></th>\n",
       "      <th></th>\n",
       "      <th></th>\n",
       "      <th></th>\n",
       "      <th></th>\n",
       "      <th></th>\n",
       "      <th></th>\n",
       "      <th></th>\n",
       "      <th></th>\n",
       "      <th></th>\n",
       "      <th></th>\n",
       "      <th></th>\n",
       "      <th></th>\n",
       "      <th></th>\n",
       "    </tr>\n",
       "  </thead>\n",
       "  <tbody>\n",
       "    <tr>\n",
       "      <th>2015-04-22 15:53:50</th>\n",
       "      <td>250635</td>\n",
       "      <td>Comcast Cable Internet Speeds</td>\n",
       "      <td>22-04-15</td>\n",
       "      <td>2015-04-22</td>\n",
       "      <td>3:53:50 PM</td>\n",
       "      <td>Customer Care Call</td>\n",
       "      <td>Abingdon</td>\n",
       "      <td>Maryland</td>\n",
       "      <td>21009</td>\n",
       "      <td>Closed</td>\n",
       "      <td>No</td>\n",
       "      <td>2015-04-22 15:53:50</td>\n",
       "      <td>0</td>\n",
       "      <td>1</td>\n",
       "    </tr>\n",
       "    <tr>\n",
       "      <th>2015-08-04 10:22:56</th>\n",
       "      <td>223441</td>\n",
       "      <td>Payment disappear - service got disconnected</td>\n",
       "      <td>04-08-15</td>\n",
       "      <td>2015-08-04</td>\n",
       "      <td>10:22:56 AM</td>\n",
       "      <td>Internet</td>\n",
       "      <td>Acworth</td>\n",
       "      <td>Georgia</td>\n",
       "      <td>30102</td>\n",
       "      <td>Closed</td>\n",
       "      <td>No</td>\n",
       "      <td>2015-08-04 10:22:56</td>\n",
       "      <td>0</td>\n",
       "      <td>1</td>\n",
       "    </tr>\n",
       "    <tr>\n",
       "      <th>2015-04-18 09:55:47</th>\n",
       "      <td>242732</td>\n",
       "      <td>Speed and Service</td>\n",
       "      <td>18-04-15</td>\n",
       "      <td>2015-04-18</td>\n",
       "      <td>9:55:47 AM</td>\n",
       "      <td>Internet</td>\n",
       "      <td>Acworth</td>\n",
       "      <td>Georgia</td>\n",
       "      <td>30101</td>\n",
       "      <td>Closed</td>\n",
       "      <td>Yes</td>\n",
       "      <td>2015-04-18 09:55:47</td>\n",
       "      <td>0</td>\n",
       "      <td>1</td>\n",
       "    </tr>\n",
       "    <tr>\n",
       "      <th>2015-07-05 11:59:35</th>\n",
       "      <td>277946</td>\n",
       "      <td>Comcast Imposed a New Usage Cap of 300GB that ...</td>\n",
       "      <td>05-07-15</td>\n",
       "      <td>2015-07-05</td>\n",
       "      <td>11:59:35 AM</td>\n",
       "      <td>Internet</td>\n",
       "      <td>Acworth</td>\n",
       "      <td>Georgia</td>\n",
       "      <td>30101</td>\n",
       "      <td>Open</td>\n",
       "      <td>Yes</td>\n",
       "      <td>2015-07-05 11:59:35</td>\n",
       "      <td>1</td>\n",
       "      <td>0</td>\n",
       "    </tr>\n",
       "    <tr>\n",
       "      <th>2015-05-26 13:25:26</th>\n",
       "      <td>307175</td>\n",
       "      <td>Comcast not working and no service to boot</td>\n",
       "      <td>26-05-15</td>\n",
       "      <td>2015-05-26</td>\n",
       "      <td>1:25:26 PM</td>\n",
       "      <td>Internet</td>\n",
       "      <td>Acworth</td>\n",
       "      <td>Georgia</td>\n",
       "      <td>30101</td>\n",
       "      <td>Solved</td>\n",
       "      <td>No</td>\n",
       "      <td>2015-05-26 13:25:26</td>\n",
       "      <td>0</td>\n",
       "      <td>1</td>\n",
       "    </tr>\n",
       "  </tbody>\n",
       "</table>\n",
       "</div>"
      ],
      "text/plain": [
       "                    Ticket #  \\\n",
       "date_index                     \n",
       "2015-04-22 15:53:50   250635   \n",
       "2015-08-04 10:22:56   223441   \n",
       "2015-04-18 09:55:47   242732   \n",
       "2015-07-05 11:59:35   277946   \n",
       "2015-05-26 13:25:26   307175   \n",
       "\n",
       "                                                    Customer Complaint  \\\n",
       "date_index                                                               \n",
       "2015-04-22 15:53:50                      Comcast Cable Internet Speeds   \n",
       "2015-08-04 10:22:56       Payment disappear - service got disconnected   \n",
       "2015-04-18 09:55:47                                  Speed and Service   \n",
       "2015-07-05 11:59:35  Comcast Imposed a New Usage Cap of 300GB that ...   \n",
       "2015-05-26 13:25:26         Comcast not working and no service to boot   \n",
       "\n",
       "                         Date Date_month_year         Time  \\\n",
       "date_index                                                   \n",
       "2015-04-22 15:53:50  22-04-15      2015-04-22   3:53:50 PM   \n",
       "2015-08-04 10:22:56  04-08-15      2015-08-04  10:22:56 AM   \n",
       "2015-04-18 09:55:47  18-04-15      2015-04-18   9:55:47 AM   \n",
       "2015-07-05 11:59:35  05-07-15      2015-07-05  11:59:35 AM   \n",
       "2015-05-26 13:25:26  26-05-15      2015-05-26   1:25:26 PM   \n",
       "\n",
       "                           Received Via      City     State  Zip code  Status  \\\n",
       "date_index                                                                      \n",
       "2015-04-22 15:53:50  Customer Care Call  Abingdon  Maryland     21009  Closed   \n",
       "2015-08-04 10:22:56            Internet   Acworth   Georgia     30102  Closed   \n",
       "2015-04-18 09:55:47            Internet   Acworth   Georgia     30101  Closed   \n",
       "2015-07-05 11:59:35            Internet   Acworth   Georgia     30101    Open   \n",
       "2015-05-26 13:25:26            Internet   Acworth   Georgia     30101  Solved   \n",
       "\n",
       "                    Filing on Behalf of Someone          date_index  Open  \\\n",
       "date_index                                                                  \n",
       "2015-04-22 15:53:50                          No 2015-04-22 15:53:50     0   \n",
       "2015-08-04 10:22:56                          No 2015-08-04 10:22:56     0   \n",
       "2015-04-18 09:55:47                         Yes 2015-04-18 09:55:47     0   \n",
       "2015-07-05 11:59:35                         Yes 2015-07-05 11:59:35     1   \n",
       "2015-05-26 13:25:26                          No 2015-05-26 13:25:26     0   \n",
       "\n",
       "                     Closed  \n",
       "date_index                   \n",
       "2015-04-22 15:53:50       1  \n",
       "2015-08-04 10:22:56       1  \n",
       "2015-04-18 09:55:47       1  \n",
       "2015-07-05 11:59:35       0  \n",
       "2015-05-26 13:25:26       1  "
      ]
     },
     "execution_count": 32,
     "metadata": {},
     "output_type": "execute_result"
    }
   ],
   "source": [
    "com_stack = df[:]\n",
    "com_stack.rename(columns = {'Status_open':'Open','Status_closed':'Closed'},inplace=True)\n",
    "com_stack.head()"
   ]
  },
  {
   "cell_type": "code",
   "execution_count": 33,
   "metadata": {},
   "outputs": [
    {
     "name": "stderr",
     "output_type": "stream",
     "text": [
      "<ipython-input-33-dd3b0c2e5aaa>:1: FutureWarning: Indexing with multiple keys (implicitly converted to a tuple of keys) will be deprecated, use a list instead.\n",
      "  com_states = com_stack.groupby(['State'])['Open', 'Closed'].sum()\n"
     ]
    },
    {
     "data": {
      "text/html": [
       "<div>\n",
       "<style scoped>\n",
       "    .dataframe tbody tr th:only-of-type {\n",
       "        vertical-align: middle;\n",
       "    }\n",
       "\n",
       "    .dataframe tbody tr th {\n",
       "        vertical-align: top;\n",
       "    }\n",
       "\n",
       "    .dataframe thead th {\n",
       "        text-align: right;\n",
       "    }\n",
       "</style>\n",
       "<table border=\"1\" class=\"dataframe\">\n",
       "  <thead>\n",
       "    <tr style=\"text-align: right;\">\n",
       "      <th></th>\n",
       "      <th>Open</th>\n",
       "      <th>Closed</th>\n",
       "    </tr>\n",
       "    <tr>\n",
       "      <th>State</th>\n",
       "      <th></th>\n",
       "      <th></th>\n",
       "    </tr>\n",
       "  </thead>\n",
       "  <tbody>\n",
       "    <tr>\n",
       "      <th>Alabama</th>\n",
       "      <td>9</td>\n",
       "      <td>17</td>\n",
       "    </tr>\n",
       "    <tr>\n",
       "      <th>Arizona</th>\n",
       "      <td>6</td>\n",
       "      <td>14</td>\n",
       "    </tr>\n",
       "    <tr>\n",
       "      <th>Arkansas</th>\n",
       "      <td>0</td>\n",
       "      <td>6</td>\n",
       "    </tr>\n",
       "    <tr>\n",
       "      <th>California</th>\n",
       "      <td>61</td>\n",
       "      <td>159</td>\n",
       "    </tr>\n",
       "    <tr>\n",
       "      <th>Colorado</th>\n",
       "      <td>22</td>\n",
       "      <td>58</td>\n",
       "    </tr>\n",
       "    <tr>\n",
       "      <th>Connecticut</th>\n",
       "      <td>3</td>\n",
       "      <td>9</td>\n",
       "    </tr>\n",
       "    <tr>\n",
       "      <th>Delaware</th>\n",
       "      <td>4</td>\n",
       "      <td>8</td>\n",
       "    </tr>\n",
       "    <tr>\n",
       "      <th>District Of Columbia</th>\n",
       "      <td>2</td>\n",
       "      <td>14</td>\n",
       "    </tr>\n",
       "    <tr>\n",
       "      <th>District of Columbia</th>\n",
       "      <td>0</td>\n",
       "      <td>1</td>\n",
       "    </tr>\n",
       "    <tr>\n",
       "      <th>Florida</th>\n",
       "      <td>39</td>\n",
       "      <td>201</td>\n",
       "    </tr>\n",
       "    <tr>\n",
       "      <th>Georgia</th>\n",
       "      <td>80</td>\n",
       "      <td>208</td>\n",
       "    </tr>\n",
       "    <tr>\n",
       "      <th>Illinois</th>\n",
       "      <td>29</td>\n",
       "      <td>135</td>\n",
       "    </tr>\n",
       "    <tr>\n",
       "      <th>Indiana</th>\n",
       "      <td>9</td>\n",
       "      <td>50</td>\n",
       "    </tr>\n",
       "    <tr>\n",
       "      <th>Iowa</th>\n",
       "      <td>0</td>\n",
       "      <td>1</td>\n",
       "    </tr>\n",
       "    <tr>\n",
       "      <th>Kansas</th>\n",
       "      <td>1</td>\n",
       "      <td>1</td>\n",
       "    </tr>\n",
       "    <tr>\n",
       "      <th>Kentucky</th>\n",
       "      <td>3</td>\n",
       "      <td>4</td>\n",
       "    </tr>\n",
       "    <tr>\n",
       "      <th>Louisiana</th>\n",
       "      <td>1</td>\n",
       "      <td>12</td>\n",
       "    </tr>\n",
       "    <tr>\n",
       "      <th>Maine</th>\n",
       "      <td>2</td>\n",
       "      <td>3</td>\n",
       "    </tr>\n",
       "    <tr>\n",
       "      <th>Maryland</th>\n",
       "      <td>15</td>\n",
       "      <td>63</td>\n",
       "    </tr>\n",
       "    <tr>\n",
       "      <th>Massachusetts</th>\n",
       "      <td>11</td>\n",
       "      <td>50</td>\n",
       "    </tr>\n",
       "    <tr>\n",
       "      <th>Michigan</th>\n",
       "      <td>23</td>\n",
       "      <td>92</td>\n",
       "    </tr>\n",
       "    <tr>\n",
       "      <th>Minnesota</th>\n",
       "      <td>4</td>\n",
       "      <td>29</td>\n",
       "    </tr>\n",
       "    <tr>\n",
       "      <th>Mississippi</th>\n",
       "      <td>16</td>\n",
       "      <td>23</td>\n",
       "    </tr>\n",
       "    <tr>\n",
       "      <th>Missouri</th>\n",
       "      <td>1</td>\n",
       "      <td>3</td>\n",
       "    </tr>\n",
       "    <tr>\n",
       "      <th>Montana</th>\n",
       "      <td>0</td>\n",
       "      <td>1</td>\n",
       "    </tr>\n",
       "    <tr>\n",
       "      <th>Nevada</th>\n",
       "      <td>0</td>\n",
       "      <td>1</td>\n",
       "    </tr>\n",
       "    <tr>\n",
       "      <th>New Hampshire</th>\n",
       "      <td>4</td>\n",
       "      <td>8</td>\n",
       "    </tr>\n",
       "    <tr>\n",
       "      <th>New Jersey</th>\n",
       "      <td>19</td>\n",
       "      <td>56</td>\n",
       "    </tr>\n",
       "    <tr>\n",
       "      <th>New Mexico</th>\n",
       "      <td>4</td>\n",
       "      <td>11</td>\n",
       "    </tr>\n",
       "    <tr>\n",
       "      <th>New York</th>\n",
       "      <td>0</td>\n",
       "      <td>6</td>\n",
       "    </tr>\n",
       "    <tr>\n",
       "      <th>North Carolina</th>\n",
       "      <td>0</td>\n",
       "      <td>3</td>\n",
       "    </tr>\n",
       "    <tr>\n",
       "      <th>Ohio</th>\n",
       "      <td>0</td>\n",
       "      <td>3</td>\n",
       "    </tr>\n",
       "    <tr>\n",
       "      <th>Oregon</th>\n",
       "      <td>13</td>\n",
       "      <td>36</td>\n",
       "    </tr>\n",
       "    <tr>\n",
       "      <th>Pennsylvania</th>\n",
       "      <td>20</td>\n",
       "      <td>110</td>\n",
       "    </tr>\n",
       "    <tr>\n",
       "      <th>Rhode Island</th>\n",
       "      <td>0</td>\n",
       "      <td>1</td>\n",
       "    </tr>\n",
       "    <tr>\n",
       "      <th>South Carolina</th>\n",
       "      <td>3</td>\n",
       "      <td>15</td>\n",
       "    </tr>\n",
       "    <tr>\n",
       "      <th>Tennessee</th>\n",
       "      <td>47</td>\n",
       "      <td>96</td>\n",
       "    </tr>\n",
       "    <tr>\n",
       "      <th>Texas</th>\n",
       "      <td>22</td>\n",
       "      <td>49</td>\n",
       "    </tr>\n",
       "    <tr>\n",
       "      <th>Utah</th>\n",
       "      <td>6</td>\n",
       "      <td>16</td>\n",
       "    </tr>\n",
       "    <tr>\n",
       "      <th>Vermont</th>\n",
       "      <td>1</td>\n",
       "      <td>2</td>\n",
       "    </tr>\n",
       "    <tr>\n",
       "      <th>Virginia</th>\n",
       "      <td>11</td>\n",
       "      <td>49</td>\n",
       "    </tr>\n",
       "    <tr>\n",
       "      <th>Washington</th>\n",
       "      <td>23</td>\n",
       "      <td>75</td>\n",
       "    </tr>\n",
       "    <tr>\n",
       "      <th>West Virginia</th>\n",
       "      <td>3</td>\n",
       "      <td>8</td>\n",
       "    </tr>\n",
       "  </tbody>\n",
       "</table>\n",
       "</div>"
      ],
      "text/plain": [
       "                      Open  Closed\n",
       "State                             \n",
       "Alabama                  9      17\n",
       "Arizona                  6      14\n",
       "Arkansas                 0       6\n",
       "California              61     159\n",
       "Colorado                22      58\n",
       "Connecticut              3       9\n",
       "Delaware                 4       8\n",
       "District Of Columbia     2      14\n",
       "District of Columbia     0       1\n",
       "Florida                 39     201\n",
       "Georgia                 80     208\n",
       "Illinois                29     135\n",
       "Indiana                  9      50\n",
       "Iowa                     0       1\n",
       "Kansas                   1       1\n",
       "Kentucky                 3       4\n",
       "Louisiana                1      12\n",
       "Maine                    2       3\n",
       "Maryland                15      63\n",
       "Massachusetts           11      50\n",
       "Michigan                23      92\n",
       "Minnesota                4      29\n",
       "Mississippi             16      23\n",
       "Missouri                 1       3\n",
       "Montana                  0       1\n",
       "Nevada                   0       1\n",
       "New Hampshire            4       8\n",
       "New Jersey              19      56\n",
       "New Mexico               4      11\n",
       "New York                 0       6\n",
       "North Carolina           0       3\n",
       "Ohio                     0       3\n",
       "Oregon                  13      36\n",
       "Pennsylvania            20     110\n",
       "Rhode Island             0       1\n",
       "South Carolina           3      15\n",
       "Tennessee               47      96\n",
       "Texas                   22      49\n",
       "Utah                     6      16\n",
       "Vermont                  1       2\n",
       "Virginia                11      49\n",
       "Washington              23      75\n",
       "West Virginia            3       8"
      ]
     },
     "execution_count": 33,
     "metadata": {},
     "output_type": "execute_result"
    }
   ],
   "source": [
    "com_states = com_stack.groupby(['State'])['Open', 'Closed'].sum()\n",
    "com_states"
   ]
  },
  {
   "cell_type": "code",
   "execution_count": 34,
   "metadata": {},
   "outputs": [
    {
     "data": {
      "image/png": "[encoded data removed]",
      "text/plain": [
       "<Figure size 1440x720 with 1 Axes>"
      ]
     },
     "metadata": {
      "needs_background": "light"
     },
     "output_type": "display_data"
    }
   ],
   "source": [
    "com_states.plot(kind='barh', stacked=True, figsize=(20,10))\n",
    "plt.title('Complaint types by state')\n",
    "plt.xticks(ha='center')\n",
    "plt.savefig('complaint_state.jpg');"
   ]
  },
  {
   "cell_type": "code",
   "execution_count": 35,
   "metadata": {},
   "outputs": [
    {
     "data": {
      "text/plain": [
       "State\n",
       "Alabama                  9\n",
       "Arizona                  6\n",
       "Arkansas                 0\n",
       "California              61\n",
       "Colorado                22\n",
       "Connecticut              3\n",
       "Delaware                 4\n",
       "District Of Columbia     2\n",
       "District of Columbia     0\n",
       "Florida                 39\n",
       "Georgia                 80\n",
       "Illinois                29\n",
       "Indiana                  9\n",
       "Iowa                     0\n",
       "Kansas                   1\n",
       "Kentucky                 3\n",
       "Louisiana                1\n",
       "Maine                    2\n",
       "Maryland                15\n",
       "Massachusetts           11\n",
       "Michigan                23\n",
       "Minnesota                4\n",
       "Mississippi             16\n",
       "Missouri                 1\n",
       "Montana                  0\n",
       "Nevada                   0\n",
       "New Hampshire            4\n",
       "New Jersey              19\n",
       "New Mexico               4\n",
       "New York                 0\n",
       "North Carolina           0\n",
       "Ohio                     0\n",
       "Oregon                  13\n",
       "Pennsylvania            20\n",
       "Rhode Island             0\n",
       "South Carolina           3\n",
       "Tennessee               47\n",
       "Texas                   22\n",
       "Utah                     6\n",
       "Vermont                  1\n",
       "Virginia                11\n",
       "Washington              23\n",
       "West Virginia            3\n",
       "Name: Open, dtype: int64"
      ]
     },
     "execution_count": 35,
     "metadata": {},
     "output_type": "execute_result"
    }
   ],
   "source": [
    "open_state = com_states['Open']\n",
    "open_state"
   ]
  },
  {
   "cell_type": "code",
   "execution_count": 36,
   "metadata": {},
   "outputs": [
    {
     "data": {
      "text/plain": [
       "517"
      ]
     },
     "execution_count": 36,
     "metadata": {},
     "output_type": "execute_result"
    }
   ],
   "source": [
    "open_state.sum()"
   ]
  },
  {
   "cell_type": "code",
   "execution_count": 37,
   "metadata": {},
   "outputs": [
    {
     "data": {
      "text/plain": [
       "80"
      ]
     },
     "execution_count": 37,
     "metadata": {},
     "output_type": "execute_result"
    }
   ],
   "source": [
    "open_state.max()"
   ]
  },
  {
   "cell_type": "code",
   "execution_count": 38,
   "metadata": {},
   "outputs": [
    {
     "name": "stdout",
     "output_type": "stream",
     "text": [
      "Georgia has the highest number of unresolved complaints at 15.47%\n"
     ]
    }
   ],
   "source": [
    "state_unres = open_state.max()/open_state.sum()*100\n",
    "print(f\"Georgia has the highest number of unresolved complaints at {state_unres:.4}%\")"
   ]
  },
  {
   "cell_type": "code",
   "execution_count": 39,
   "metadata": {},
   "outputs": [
    {
     "data": {
      "text/plain": [
       "288"
      ]
     },
     "execution_count": 39,
     "metadata": {},
     "output_type": "execute_result"
    }
   ],
   "source": [
    "state = com_states['Open']+com_states['Closed']\n",
    "state.max()"
   ]
  },
  {
   "cell_type": "code",
   "execution_count": 55,
   "metadata": {},
   "outputs": [
    {
     "name": "stdout",
     "output_type": "stream",
     "text": [
      "Received Via\n",
      "Customer Care Call    864\n",
      "Internet              843\n",
      "Name: Closed, dtype: int64\n",
      "1707\n",
      "The percentage of resolved complaints stands at 76.75%\n"
     ]
    }
   ],
   "source": [
    "resolved = com_stack.groupby(['Received Via'])['Closed'].sum()\n",
    "com_closed = com_states.Closed.sum()\n",
    "com_open = com_states.Open.sum()\n",
    "coms = (com_closed/(com_open+com_closed))*100\n",
    "print(resolved)\n",
    "print(com_closed)\n",
    "print(f\"The percentage of resolved complaints stands at {coms:.2f}%\")"
   ]
  },
  {
   "cell_type": "code",
   "execution_count": null,
   "metadata": {},
   "outputs": [],
   "source": []
  }
 ],
 "metadata": {
  "kernelspec": {
   "display_name": "Python 3",
   "language": "python",
   "name": "python3"
  },
  "language_info": {
   "codemirror_mode": {
    "name": "ipython",
    "version": 3
   },
   "file_extension": ".py",
   "mimetype": "text/x-python",
   "name": "python",
   "nbconvert_exporter": "python",
   "pygments_lexer": "ipython3",
   "version": "3.8.5"
  }
 },
 "nbformat": 4,
 "nbformat_minor": 4
}
